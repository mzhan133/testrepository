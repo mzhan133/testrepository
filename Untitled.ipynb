{
 "cells": [
  {
   "cell_type": "raw",
   "id": "5b3d728b-a3ae-4639-89d5-954c1bb33b9a",
   "metadata": {},
   "source": [
    "This code is for following reason"
   ]
  },
  {
   "cell_type": "code",
   "execution_count": null,
   "id": "e8f61677-77d0-46fb-8bad-5bd31f8c5d9f",
   "metadata": {
    "tags": []
   },
   "outputs": [],
   "source": [
    "type(\"10\")"
   ]
  },
  {
   "cell_type": "code",
   "execution_count": 7,
   "id": "09924ed8-2fef-4666-9feb-ec4ac98299ad",
   "metadata": {},
   "outputs": [
    {
     "data": {
      "text/plain": [
       "tuple"
      ]
     },
     "execution_count": 7,
     "metadata": {},
     "output_type": "execute_result"
    }
   ],
   "source": [
    "type((1,2))"
   ]
  },
  {
   "cell_type": "code",
   "execution_count": 9,
   "id": "5161f1bc-fbc8-49b6-970f-7101c38d4999",
   "metadata": {},
   "outputs": [],
   "source": [
    "a=10"
   ]
  },
  {
   "cell_type": "code",
   "execution_count": 11,
   "id": "8e372469-1800-4529-b798-db0a2cdcf659",
   "metadata": {},
   "outputs": [
    {
     "data": {
      "text/plain": [
       "10.0"
      ]
     },
     "execution_count": 11,
     "metadata": {},
     "output_type": "execute_result"
    }
   ],
   "source": [
    "a.__float__()"
   ]
  },
  {
   "cell_type": "code",
   "execution_count": 12,
   "id": "a519c8c3-4574-4dfa-aa5e-94e97199029f",
   "metadata": {},
   "outputs": [
    {
     "data": {
      "text/plain": [
       "3.0"
      ]
     },
     "execution_count": 12,
     "metadata": {},
     "output_type": "execute_result"
    }
   ],
   "source": [
    "11.5//3"
   ]
  },
  {
   "cell_type": "code",
   "execution_count": 13,
   "id": "10c7105a-d0dd-4cf9-85bb-e81ace643c0e",
   "metadata": {},
   "outputs": [],
   "source": [
    "word = \"ds4bio\""
   ]
  },
  {
   "cell_type": "code",
   "execution_count": 15,
   "id": "f74590f0-29a4-4a22-bbba-9aa3420fd58e",
   "metadata": {},
   "outputs": [
    {
     "data": {
      "text/plain": [
       "'i'"
      ]
     },
     "execution_count": 15,
     "metadata": {},
     "output_type": "execute_result"
    }
   ],
   "source": [
    "word[-2]"
   ]
  },
  {
   "cell_type": "code",
   "execution_count": 20,
   "id": "ddf8e2d5-4910-4fa5-bd35-fd2b4cff4376",
   "metadata": {},
   "outputs": [
    {
     "name": "stdout",
     "output_type": "stream",
     "text": [
      "False\n",
      "True\n",
      "True\n",
      "False\n",
      "True\n"
     ]
    }
   ],
   "source": [
    "a = 5 < 4\n",
    "b = 2*2.5 == 5\n",
    "print(a)   # false\n",
    "print(b)   # true\n",
    "print(a or b) #ture or false = true\n",
    "print(a and b) #false + ture = false\n",
    "print(not a) "
   ]
  },
  {
   "cell_type": "code",
   "execution_count": null,
   "id": "668ea348-0e7e-4a68-88d7-97d3d9629d40",
   "metadata": {},
   "outputs": [],
   "source": []
  }
 ],
 "metadata": {
  "kernelspec": {
   "display_name": "Python 3 (ipykernel)",
   "language": "python",
   "name": "python3"
  },
  "language_info": {
   "codemirror_mode": {
    "name": "ipython",
    "version": 3
   },
   "file_extension": ".py",
   "mimetype": "text/x-python",
   "name": "python",
   "nbconvert_exporter": "python",
   "pygments_lexer": "ipython3",
   "version": "3.9.7"
  }
 },
 "nbformat": 4,
 "nbformat_minor": 5
}
